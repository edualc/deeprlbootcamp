{
 "cells": [
  {
   "cell_type": "code",
   "execution_count": 1,
   "metadata": {},
   "outputs": [
    {
     "name": "stderr",
     "output_type": "stream",
     "text": [
      "C:\\ProgramData\\Anaconda3\\lib\\site-packages\\h5py\\__init__.py:34: FutureWarning: Conversion of the second argument of issubdtype from `float` to `np.floating` is deprecated. In future, it will be treated as `np.float64 == np.dtype(float).type`.\n",
      "  from ._conv import register_converters as _register_converters\n"
     ]
    }
   ],
   "source": [
    "\"\"\"\n",
    "This project was developed by Peter Chen, Rocky Duan, Pieter Abbeel for the Berkeley Deep RL Bootcamp, August 2017.\n",
    "Bootcamp website with slides and lecture videos: https://sites.google.com/view/deep-rl-bootcamp/.\n",
    "\n",
    "Code adapted from Stanford CS231N materials: http://cs231n.stanford.edu/\n",
    "\"\"\"\n",
    "\n",
    "\n",
    "# note to properly run this lab, you should execute all code blocks sequentially\n",
    "import chainer\n",
    "import chainer.functions as F\n",
    "import chainer.links as L\n",
    "from chainer import training\n",
    "from chainer.training import extensions\n",
    "\n",
    "from collections import namedtuple, defaultdict, deque\n",
    "\n",
    "import numpy as np\n",
    "\n",
    "%matplotlib inline\n",
    "\n",
    "import matplotlib\n",
    "import matplotlib.pyplot as plt"
   ]
  },
  {
   "cell_type": "markdown",
   "metadata": {},
   "source": [
    "## Introduction to Chainer\n",
    "\n",
    "Chainer can be understood as Numpy plus the ability to record the computation graph of numerical operations to enable Automatic Differentiation. (Chainer actually also offers many other things; for example, a Numpy equivalent library that runs on GPU, but we will ignore them for now)"
   ]
  },
  {
   "cell_type": "markdown",
   "metadata": {},
   "source": [
    "Let's illustrate how Chainer works by a simple 1D regression task.\n",
    "\n",
    "Suppose we have observations from the following model $y = w x + b + \\epsilon$ where $\\epsilon \\sim \\mathcal{N}(0, 0.1)$ and the task is to estimate the linear model parameters $w, b$ from data."
   ]
  },
  {
   "cell_type": "code",
   "execution_count": 2,
   "metadata": {},
   "outputs": [
    {
     "data": {
      "image/png": "[encoded data removed]",
      "text/plain": [
       "<matplotlib.figure.Figure at 0x8f95898>"
      ]
     },
     "metadata": {},
     "output_type": "display_data"
    }
   ],
   "source": [
    "# first generate some observations\n",
    "true_a = 1.3\n",
    "true_b = 0.4\n",
    "data_x = (np.arange(100) / 99.0 - .5).astype(np.float32) # Chainer assumes all the cpu computation is done in float32\n",
    "data_y = (data_x * true_a + true_b + np.random.randn(*data_x.shape) * 0.1).astype(np.float32)\n",
    "_ = plt.scatter(data_x, data_y, c='b')"
   ]
  },
  {
   "cell_type": "markdown",
   "metadata": {},
   "source": [
    "Chainer provides an abstraction called `Link` that describe some computation and keeps track of parameters for it. For instance, a `Linear` link describes a linear map on input and keeps track of `w` and bias `b`."
   ]
  },
  {
   "cell_type": "code",
   "execution_count": 3,
   "metadata": {},
   "outputs": [
    {
     "name": "stdout",
     "output_type": "stream",
     "text": [
      "w: variable W([[0.3721391]])\n",
      "b: variable b([0.])\n",
      "Operations on chainer.Variable: variable([[123.37214]]), type: <class 'chainer.variable.Variable'>\n",
      "numpy arrays: [[0.3721391]] [[123.37214]]\n"
     ]
    }
   ],
   "source": [
    "model = L.Linear(in_size=1, out_size=1) # input is 1D data and output is also 1D data\n",
    "\n",
    "# Chainer will randomly initialize `w` and `b` for us.\n",
    "# we can take a look at their values\n",
    "print(\"w:\", model.W)\n",
    "print(\"b:\", model.b)\n",
    "\n",
    "# model.W and model.b have type `chainer.Variable`, \n",
    "#   which is a wrapper around Numpy array\n",
    "assert isinstance(model.W, chainer.Variable)\n",
    "\n",
    "# operations that involve `chainer.Variable` will produce\n",
    "#   `chainer.Variable` and this records the computation graph\n",
    "var_result = model.W + 123 # some random computation\n",
    "print(\"Operations on chainer.Variable: %s, type: %s\" % (var_result, type(var_result)))\n",
    "\n",
    "# the underlying numpy array can be accessed by `data` attribute\n",
    "print(\"numpy arrays:\", model.W.data, var_result.data)"
   ]
  },
  {
   "cell_type": "code",
   "execution_count": 4,
   "metadata": {},
   "outputs": [
    {
     "data": {
      "image/png": "[encoded data removed]",
      "text/plain": [
       "<matplotlib.figure.Figure at 0x9273048>"
      ]
     },
     "metadata": {},
     "output_type": "display_data"
    }
   ],
   "source": [
    "# A chainer link is a callable object. calling it performs the\n",
    "#   forward computation. (in this case, it performs Wx + b)\n",
    "model_y = model(data_x[:, None]) # chainer's link usually assumes input is [Batch Size, Input Dimension]\n",
    "# `model_y` is a chainer variable so we use `.data` to access its numpy array for plotting\n",
    "\n",
    "# we can plot the model's current fit in red. it should be terrible because we haven't trained it yet\n",
    "_ = plt.plot(data_x, model_y.data[:,0], c='r')\n",
    "_ = plt.scatter(data_x, data_y, c='b')\n",
    "_ = plt.title(\"Initial model\")"
   ]
  },
  {
   "cell_type": "code",
   "execution_count": 5,
   "metadata": {},
   "outputs": [
    {
     "name": "stdout",
     "output_type": "stream",
     "text": [
      "loss variable(0.24902828)\n",
      "dloss/dW [[-0.16138375]]\n"
     ]
    }
   ],
   "source": [
    "# now let's walk through how to perform forward computation\n",
    "#  and use AD to get gradients\n",
    "\n",
    "# first we clear the gradients that are stored in the model\n",
    "model.cleargrads()\n",
    "# as we have seen we can perform forward computation by calling the link\n",
    "model_y = model(data_x[:, None])\n",
    "\n",
    "# remember that `model_y` is a chainer variable. to operate on chainer variable\n",
    "#    we will use functions from chainer.functions to operate on those objects.\n",
    "loss = F.mean(F.square(model_y - data_y[:, None]))\n",
    "# `loss` is a scalar chainer variable\n",
    "assert isinstance(loss, chainer.Variable)\n",
    "print(\"loss\", loss)\n",
    "# calculating gradients d loss /d params is as simple as\n",
    "loss.backward()\n",
    "\n",
    "# we can inspect the gradient of loss with respect to W\n",
    "print(\"dloss/dW\", model.W.grad)"
   ]
  },
  {
   "cell_type": "markdown",
   "metadata": {},
   "source": [
    "Now that we know how to calculate gradients, we can code up a simple loop to perform gradient descent to train this model:\n",
    "\n",
    "(Hint: if you run into weird problems, maybe the state has been messed up and you can try re-runing all the code blocks from the beginning)"
   ]
  },
  {
   "cell_type": "code",
   "execution_count": 19,
   "metadata": {},
   "outputs": [
    {
     "name": "stdout",
     "output_type": "stream",
     "text": [
      "Itr 0 loss: variable(0.4916394)\n",
      "Itr 25 loss: variable(0.04569507)\n",
      "Itr 50 loss: variable(0.01346492)\n",
      "Itr 75 loss: variable(0.00979201)\n"
     ]
    },
    {
     "data": {
      "image/png": "[encoded data removed]",
      "text/plain": [
       "<matplotlib.figure.Figure at 0x9319080>"
      ]
     },
     "metadata": {},
     "output_type": "display_data"
    },
    {
     "data": {
      "image/png": "[encoded data removed]",
      "text/plain": [
       "<matplotlib.figure.Figure at 0x9296dd8>"
      ]
     },
     "metadata": {},
     "output_type": "display_data"
    }
   ],
   "source": [
    "# now we can perform gradient descent to improve this model\n",
    "model = L.Linear(in_size=1, out_size=1)\n",
    "losses = []\n",
    "alpha = 0.25 # learning rate\n",
    "\n",
    "for i in range(100):\n",
    "    model.cleargrads()\n",
    "    loss = F.mean(F.square(model(data_x[:, None]) - data_y[:, None]))\n",
    "    losses.append(float(loss.data))\n",
    "    ## *** YOUR CODE HERE TO PERFORM GRADIENT DESCENT ***\n",
    "    ## Hint: you could access gradients with model.W.grad, model.b.grad\n",
    "    ## Hint2: you could write data into a parameter with model.W.data[:] = some_numpy_array\n",
    "    ## Hint3: if your model doesn't learn, remember to try different learning rates\n",
    "    \n",
    "    # calculate gradients\n",
    "    loss.backward()\n",
    "    \n",
    "    # update coefficients with gradients\n",
    "    model.W.data[:] = np.subtract(model.W.data[:], alpha * model.W.grad[:])\n",
    "    model.b.data[:] = np.subtract(model.b.data[:], alpha * model.b.grad[:])\n",
    "    \n",
    "    if i % 25 == 0:\n",
    "        print(\"Itr\", i, \"loss:\", loss)\n",
    "        \n",
    "plt.plot(np.array(losses))\n",
    "plt.title(\"Learning curve\")\n",
    "plt.figure()\n",
    "plt.plot(data_x, model(data_x[:, None])[:,0].data, c='r')\n",
    "plt.scatter(data_x, data_y, c='b')\n",
    "_ = plt.title(\"Trained model fitness\")\n"
   ]
  },
  {
   "cell_type": "markdown",
   "metadata": {},
   "source": [
    "## Train your first deep model\n",
    "\n",
    "Now we have learned the basics of Chainer. We can use it to train a deep model to classify MNIST digits. We will train a model on the MNIST dataset because the dataset is small.\n",
    "\n",
    "First we load the data and see what the images look like:"
   ]
  },
  {
   "cell_type": "code",
   "execution_count": 20,
   "metadata": {
    "scrolled": false
   },
   "outputs": [
    {
     "name": "stdout",
     "output_type": "stream",
     "text": [
      "Downloading from http://yann.lecun.com/exdb/mnist/train-images-idx3-ubyte.gz...\n",
      "Downloading from http://yann.lecun.com/exdb/mnist/train-labels-idx1-ubyte.gz...\n",
      "Downloading from http://yann.lecun.com/exdb/mnist/t10k-images-idx3-ubyte.gz...\n",
      "Downloading from http://yann.lecun.com/exdb/mnist/t10k-labels-idx1-ubyte.gz...\n",
      "train[i][0] is the ith image that's flattened, and has shape: (784,)\n",
      "train[i][1] is the ith image's label, such as: 3\n"
     ]
    },
    {
     "data": {
      "image/png": "[encoded data removed]",
      "text/plain": [
       "<matplotlib.figure.Figure at 0x92d9630>"
      ]
     },
     "metadata": {},
     "output_type": "display_data"
    },
    {
     "data": {
      "image/png": "[encoded data removed]",
      "text/plain": [
       "<matplotlib.figure.Figure at 0x923b710>"
      ]
     },
     "metadata": {},
     "output_type": "display_data"
    }
   ],
   "source": [
    "train, test = chainer.datasets.get_mnist()\n",
    "# use train[data_point_index] to access data\n",
    "print(\"train[i][0] is the ith image that's flattened, and has shape:\", train[12][0].shape)\n",
    "print(\"train[i][1] is the ith image's label, such as:\", train[12][1])\n",
    "# here we visualize two of them\n",
    "plt.imshow(train[12][0].reshape([28, 28,]))\n",
    "plt.title(\"Label: %s\" % train[12][1])\n",
    "plt.figure()\n",
    "plt.imshow(train[42][0].reshape([28, 28,]))\n",
    "_ = plt.title(\"Label: %s\" % train[42][1])"
   ]
  },
  {
   "cell_type": "markdown",
   "metadata": {},
   "source": [
    "Next we will provide some boilerplate code and train a linear classifier as an example:"
   ]
  },
  {
   "cell_type": "code",
   "execution_count": 21,
   "metadata": {},
   "outputs": [
    {
     "name": "stdout",
     "output_type": "stream",
     "text": [
      "loss: 2.3206515312194824; accuracy: 0.1875\n",
      "loss: 0.5898102724552154; accuracy: 0.8475\n",
      "loss: 0.47016899824142455; accuracy: 0.885\n",
      "loss: 0.37280572891235353; accuracy: 0.8975\n",
      "loss: 0.39245974719524385; accuracy: 0.8925\n",
      "loss: 0.3828873312473297; accuracy: 0.8925\n",
      "loss: 0.3639484262466431; accuracy: 0.8925\n",
      "loss: 0.34239679455757144; accuracy: 0.905\n",
      "loss: 0.33564156383275984; accuracy: 0.9125\n",
      "loss: 0.3497191634774208; accuracy: 0.9075\n",
      "loss: 0.3232829296588898; accuracy: 0.91\n",
      "loss: 0.31289233565330504; accuracy: 0.9175\n",
      "loss: 0.29198490440845487; accuracy: 0.9325\n",
      "loss: 0.3328437614440918; accuracy: 0.9025\n",
      "loss: 0.25318925082683563; accuracy: 0.935\n",
      "loss: 0.2777280804514885; accuracy: 0.92\n",
      "loss: 0.2506934630870819; accuracy: 0.9325\n",
      "loss: 0.33985308080911636; accuracy: 0.9175\n",
      "loss: 0.3727858453989029; accuracy: 0.9025\n",
      "loss: 0.35194007843732833; accuracy: 0.915\n",
      "loss: 0.245509212911129; accuracy: 0.925\n",
      "loss: 0.27180829912424087; accuracy: 0.9175\n",
      "loss: 0.25854262471199035; accuracy: 0.925\n",
      "loss: 0.30336028188467024; accuracy: 0.915\n",
      "loss: 0.24340528279542922; accuracy: 0.935\n",
      "loss: 0.2788736253976822; accuracy: 0.925\n"
     ]
    }
   ],
   "source": [
    "def run(model, batchsize=16, num_epochs=2):\n",
    "    \n",
    "    optimizer = chainer.optimizers.Adam() # we will use chainer's Adam implementation instead of writing our own gradient based optimization\n",
    "    optimizer.setup(model)\n",
    "    \n",
    "    stats = defaultdict(lambda: deque(maxlen=25))\n",
    "    for epoch in range(num_epochs):\n",
    "        train_iter = chainer.iterators.SerialIterator(train, batchsize, repeat=False, shuffle=True)\n",
    "        test_iter = chainer.iterators.SerialIterator(test, batchsize, repeat=False, shuffle=False)\n",
    "        \n",
    "        for itr, batch in enumerate(train_iter):\n",
    "            xs = np.concatenate([datum[0][None, :] for datum in batch])\n",
    "            ys = np.array([datum[1] for datum in batch])\n",
    "\n",
    "            logits = model(xs)\n",
    "\n",
    "            loss = F.softmax_cross_entropy(logits, ys)\n",
    "            model.cleargrads()\n",
    "            loss.backward()\n",
    "            optimizer.update()\n",
    "            \n",
    "            # calculate stats\n",
    "            stats[\"loss\"].append(float(loss.data))\n",
    "            stats[\"accuracy\"].append(float((logits.data.argmax(1) == ys).sum() / batchsize))\n",
    "            if itr % 300 == 0:\n",
    "                print(\"; \".join(\"%s: %s\" % (k, np.mean(vs)) for k, vs in stats.items()))\n",
    "\n",
    "# try a simple linear model\n",
    "run(L.Linear(None, 10))"
   ]
  },
  {
   "cell_type": "markdown",
   "metadata": {},
   "source": [
    "Next we will try to improve performance by training an MLP instead. A partial implementation is provided for you to fill in:"
   ]
  },
  {
   "cell_type": "code",
   "execution_count": 22,
   "metadata": {},
   "outputs": [
    {
     "name": "stdout",
     "output_type": "stream",
     "text": [
      "loss: 2.2884504795074463; accuracy: 0.0625\n",
      "loss: 0.3342822080850601; accuracy: 0.9075\n",
      "loss: 0.2862413048744202; accuracy: 0.925\n",
      "loss: 0.28188753098249436; accuracy: 0.93\n",
      "loss: 0.18551358431577683; accuracy: 0.9425\n",
      "loss: 0.13963550686836243; accuracy: 0.9475\n",
      "loss: 0.1423386490345001; accuracy: 0.955\n",
      "loss: 0.13824889123439787; accuracy: 0.95\n",
      "loss: 0.12078681081533432; accuracy: 0.9625\n",
      "loss: 0.08751630038022995; accuracy: 0.9725\n",
      "loss: 0.1507019132375717; accuracy: 0.9475\n",
      "loss: 0.09893052488565444; accuracy: 0.9625\n",
      "loss: 0.21848556458950041; accuracy: 0.9275\n",
      "loss: 0.11632079154253006; accuracy: 0.97\n",
      "loss: 0.10673820436000823; accuracy: 0.965\n",
      "loss: 0.10463634669780732; accuracy: 0.97\n",
      "loss: 0.1663872268795967; accuracy: 0.9575\n",
      "loss: 0.0930603289604187; accuracy: 0.9675\n",
      "loss: 0.0689922672510147; accuracy: 0.975\n",
      "loss: 0.092524453997612; accuracy: 0.9625\n",
      "loss: 0.07509967565536499; accuracy: 0.975\n",
      "loss: 0.1352912065386772; accuracy: 0.965\n",
      "loss: 0.0975265708565712; accuracy: 0.965\n",
      "loss: 0.0963770979642868; accuracy: 0.965\n",
      "loss: 0.0814904260635376; accuracy: 0.9725\n",
      "loss: 0.06051432132720947; accuracy: 0.985\n"
     ]
    }
   ],
   "source": [
    "class MLP(chainer.Chain):\n",
    "\n",
    "    def __init__(self, n_units, n_out):\n",
    "        super(MLP, self).__init__()\n",
    "        with self.init_scope():\n",
    "            # the size of the inputs to each layer will be inferred\n",
    "            self.l1 = L.Linear(None, n_units)  # n_in -> n_units\n",
    "            self.l2 = L.Linear(None, n_units)  # n_units -> n_units\n",
    "            self.l3 = L.Linear(None, n_out)  # n_units -> n_out\n",
    "\n",
    "    def __call__(self, x):\n",
    "        # *** YOUR CODE HERE TO BUILD AN MLP W/ self.l1, self.l2, self.l3 ***\n",
    "        \n",
    "        hidden_1 = F.relu(self.l1(x))\n",
    "        hidden_2 = F.relu(self.l2(hidden_1))\n",
    "        output = self.l3(hidden_2)\n",
    "        \n",
    "        # \n",
    "        # Hint: you should make use of non-linearities / activation functions\n",
    "        #     https://docs.chainer.org/en/stable/reference/functions.html#activation-functions\n",
    "        \n",
    "        return output\n",
    "    \n",
    "run(MLP(200, 10))"
   ]
  },
  {
   "cell_type": "code",
   "execution_count": 45,
   "metadata": {},
   "outputs": [
    {
     "ename": "InvalidType",
     "evalue": "\nInvalid operation is performed in: Convolution2DFunction (Forward)\n\nExpect: in_types[0].ndim == 4\nActual: 2 != 4",
     "output_type": "error",
     "traceback": [
      "\u001b[1;31m---------------------------------------------------------------------------\u001b[0m",
      "\u001b[1;31mInvalidType\u001b[0m                               Traceback (most recent call last)",
      "\u001b[1;32m<ipython-input-45-3d6bbc2090d8>\u001b[0m in \u001b[0;36m<module>\u001b[1;34m()\u001b[0m\n\u001b[0;32m     24\u001b[0m         \u001b[1;32mreturn\u001b[0m \u001b[0mF\u001b[0m\u001b[1;33m.\u001b[0m\u001b[0msoftmax\u001b[0m\u001b[1;33m(\u001b[0m\u001b[0mself\u001b[0m\u001b[1;33m.\u001b[0m\u001b[0mfc5\u001b[0m\u001b[1;33m(\u001b[0m\u001b[0mh\u001b[0m\u001b[1;33m)\u001b[0m\u001b[1;33m)\u001b[0m\u001b[1;33m\u001b[0m\u001b[0m\n\u001b[0;32m     25\u001b[0m \u001b[1;33m\u001b[0m\u001b[0m\n\u001b[1;32m---> 26\u001b[1;33m \u001b[0mrun\u001b[0m\u001b[1;33m(\u001b[0m\u001b[0mLeNet5\u001b[0m\u001b[1;33m(\u001b[0m\u001b[1;36m200\u001b[0m\u001b[1;33m,\u001b[0m\u001b[1;36m10\u001b[0m\u001b[1;33m)\u001b[0m\u001b[1;33m)\u001b[0m\u001b[1;33m\u001b[0m\u001b[0m\n\u001b[0m",
      "\u001b[1;32m<ipython-input-21-42bb1e4e503e>\u001b[0m in \u001b[0;36mrun\u001b[1;34m(model, batchsize, num_epochs)\u001b[0m\n\u001b[0;32m     13\u001b[0m             \u001b[0mys\u001b[0m \u001b[1;33m=\u001b[0m \u001b[0mnp\u001b[0m\u001b[1;33m.\u001b[0m\u001b[0marray\u001b[0m\u001b[1;33m(\u001b[0m\u001b[1;33m[\u001b[0m\u001b[0mdatum\u001b[0m\u001b[1;33m[\u001b[0m\u001b[1;36m1\u001b[0m\u001b[1;33m]\u001b[0m \u001b[1;32mfor\u001b[0m \u001b[0mdatum\u001b[0m \u001b[1;32min\u001b[0m \u001b[0mbatch\u001b[0m\u001b[1;33m]\u001b[0m\u001b[1;33m)\u001b[0m\u001b[1;33m\u001b[0m\u001b[0m\n\u001b[0;32m     14\u001b[0m \u001b[1;33m\u001b[0m\u001b[0m\n\u001b[1;32m---> 15\u001b[1;33m             \u001b[0mlogits\u001b[0m \u001b[1;33m=\u001b[0m \u001b[0mmodel\u001b[0m\u001b[1;33m(\u001b[0m\u001b[0mxs\u001b[0m\u001b[1;33m)\u001b[0m\u001b[1;33m\u001b[0m\u001b[0m\n\u001b[0m\u001b[0;32m     16\u001b[0m \u001b[1;33m\u001b[0m\u001b[0m\n\u001b[0;32m     17\u001b[0m             \u001b[0mloss\u001b[0m \u001b[1;33m=\u001b[0m \u001b[0mF\u001b[0m\u001b[1;33m.\u001b[0m\u001b[0msoftmax_cross_entropy\u001b[0m\u001b[1;33m(\u001b[0m\u001b[0mlogits\u001b[0m\u001b[1;33m,\u001b[0m \u001b[0mys\u001b[0m\u001b[1;33m)\u001b[0m\u001b[1;33m\u001b[0m\u001b[0m\n",
      "\u001b[1;32m<ipython-input-45-3d6bbc2090d8>\u001b[0m in \u001b[0;36m__call__\u001b[1;34m(self, x)\u001b[0m\n\u001b[0;32m     14\u001b[0m \u001b[1;33m\u001b[0m\u001b[0m\n\u001b[0;32m     15\u001b[0m     \u001b[1;32mdef\u001b[0m \u001b[0m__call__\u001b[0m\u001b[1;33m(\u001b[0m\u001b[0mself\u001b[0m\u001b[1;33m,\u001b[0m \u001b[0mx\u001b[0m\u001b[1;33m)\u001b[0m\u001b[1;33m:\u001b[0m\u001b[1;33m\u001b[0m\u001b[0m\n\u001b[1;32m---> 16\u001b[1;33m         \u001b[0mh\u001b[0m \u001b[1;33m=\u001b[0m \u001b[0mF\u001b[0m\u001b[1;33m.\u001b[0m\u001b[0msigmoid\u001b[0m\u001b[1;33m(\u001b[0m\u001b[0mself\u001b[0m\u001b[1;33m.\u001b[0m\u001b[0mconv1\u001b[0m\u001b[1;33m(\u001b[0m\u001b[0mx\u001b[0m\u001b[1;33m)\u001b[0m\u001b[1;33m)\u001b[0m\u001b[1;33m\u001b[0m\u001b[0m\n\u001b[0m\u001b[0;32m     17\u001b[0m         \u001b[0mh\u001b[0m \u001b[1;33m=\u001b[0m \u001b[0mF\u001b[0m\u001b[1;33m.\u001b[0m\u001b[0mmax_pooling_2d\u001b[0m\u001b[1;33m(\u001b[0m\u001b[0mh\u001b[0m\u001b[1;33m,\u001b[0m \u001b[1;36m2\u001b[0m\u001b[1;33m,\u001b[0m \u001b[1;36m2\u001b[0m\u001b[1;33m)\u001b[0m\u001b[1;33m\u001b[0m\u001b[0m\n\u001b[0;32m     18\u001b[0m         \u001b[0mh\u001b[0m \u001b[1;33m=\u001b[0m \u001b[0mF\u001b[0m\u001b[1;33m.\u001b[0m\u001b[0msigmoid\u001b[0m\u001b[1;33m(\u001b[0m\u001b[0mself\u001b[0m\u001b[1;33m.\u001b[0m\u001b[0mconv2\u001b[0m\u001b[1;33m(\u001b[0m\u001b[0mh\u001b[0m\u001b[1;33m)\u001b[0m\u001b[1;33m)\u001b[0m\u001b[1;33m\u001b[0m\u001b[0m\n",
      "\u001b[1;32mC:\\ProgramData\\Anaconda3\\lib\\site-packages\\chainer\\links\\connection\\convolution_2d.py\u001b[0m in \u001b[0;36m__call__\u001b[1;34m(self, x)\u001b[0m\n\u001b[0;32m    152\u001b[0m             \u001b[0mself\u001b[0m\u001b[1;33m.\u001b[0m\u001b[0m_initialize_params\u001b[0m\u001b[1;33m(\u001b[0m\u001b[0mx\u001b[0m\u001b[1;33m.\u001b[0m\u001b[0mshape\u001b[0m\u001b[1;33m[\u001b[0m\u001b[1;36m1\u001b[0m\u001b[1;33m]\u001b[0m\u001b[1;33m)\u001b[0m\u001b[1;33m\u001b[0m\u001b[0m\n\u001b[0;32m    153\u001b[0m         return convolution_2d.convolution_2d(\n\u001b[1;32m--> 154\u001b[1;33m             x, self.W, self.b, self.stride, self.pad)\n\u001b[0m\u001b[0;32m    155\u001b[0m \u001b[1;33m\u001b[0m\u001b[0m\n\u001b[0;32m    156\u001b[0m \u001b[1;33m\u001b[0m\u001b[0m\n",
      "\u001b[1;32mC:\\ProgramData\\Anaconda3\\lib\\site-packages\\chainer\\functions\\connection\\convolution_2d.py\u001b[0m in \u001b[0;36mconvolution_2d\u001b[1;34m(x, W, b, stride, pad, cover_all, **kwargs)\u001b[0m\n\u001b[0;32m    437\u001b[0m         \u001b[1;32mreturn\u001b[0m \u001b[0mfunc\u001b[0m\u001b[1;33m(\u001b[0m\u001b[0mx\u001b[0m\u001b[1;33m,\u001b[0m \u001b[0mW\u001b[0m\u001b[1;33m)\u001b[0m\u001b[1;33m\u001b[0m\u001b[0m\n\u001b[0;32m    438\u001b[0m     \u001b[1;32melse\u001b[0m\u001b[1;33m:\u001b[0m\u001b[1;33m\u001b[0m\u001b[0m\n\u001b[1;32m--> 439\u001b[1;33m         \u001b[1;32mreturn\u001b[0m \u001b[0mfunc\u001b[0m\u001b[1;33m(\u001b[0m\u001b[0mx\u001b[0m\u001b[1;33m,\u001b[0m \u001b[0mW\u001b[0m\u001b[1;33m,\u001b[0m \u001b[0mb\u001b[0m\u001b[1;33m)\u001b[0m\u001b[1;33m\u001b[0m\u001b[0m\n\u001b[0m",
      "\u001b[1;32mC:\\ProgramData\\Anaconda3\\lib\\site-packages\\chainer\\function.py\u001b[0m in \u001b[0;36m__call__\u001b[1;34m(self, *inputs)\u001b[0m\n\u001b[0;32m    185\u001b[0m \u001b[1;33m\u001b[0m\u001b[0m\n\u001b[0;32m    186\u001b[0m         \u001b[1;32mif\u001b[0m \u001b[0mconfiguration\u001b[0m\u001b[1;33m.\u001b[0m\u001b[0mconfig\u001b[0m\u001b[1;33m.\u001b[0m\u001b[0mtype_check\u001b[0m\u001b[1;33m:\u001b[0m\u001b[1;33m\u001b[0m\u001b[0m\n\u001b[1;32m--> 187\u001b[1;33m             \u001b[0mself\u001b[0m\u001b[1;33m.\u001b[0m\u001b[0m_check_data_type_forward\u001b[0m\u001b[1;33m(\u001b[0m\u001b[0min_data\u001b[0m\u001b[1;33m)\u001b[0m\u001b[1;33m\u001b[0m\u001b[0m\n\u001b[0m\u001b[0;32m    188\u001b[0m \u001b[1;33m\u001b[0m\u001b[0m\n\u001b[0;32m    189\u001b[0m         \u001b[0mhooks\u001b[0m \u001b[1;33m=\u001b[0m \u001b[0mchainer\u001b[0m\u001b[1;33m.\u001b[0m\u001b[0mget_function_hooks\u001b[0m\u001b[1;33m(\u001b[0m\u001b[1;33m)\u001b[0m\u001b[1;33m\u001b[0m\u001b[0m\n",
      "\u001b[1;32mC:\\ProgramData\\Anaconda3\\lib\\site-packages\\chainer\\function.py\u001b[0m in \u001b[0;36m_check_data_type_forward\u001b[1;34m(self, in_data)\u001b[0m\n\u001b[0;32m    288\u001b[0m         \u001b[0min_type\u001b[0m \u001b[1;33m=\u001b[0m \u001b[0mtype_check\u001b[0m\u001b[1;33m.\u001b[0m\u001b[0mget_types\u001b[0m\u001b[1;33m(\u001b[0m\u001b[0min_data\u001b[0m\u001b[1;33m,\u001b[0m \u001b[1;34m'in_types'\u001b[0m\u001b[1;33m,\u001b[0m \u001b[1;32mFalse\u001b[0m\u001b[1;33m)\u001b[0m\u001b[1;33m\u001b[0m\u001b[0m\n\u001b[0;32m    289\u001b[0m         \u001b[1;32mwith\u001b[0m \u001b[0mtype_check\u001b[0m\u001b[1;33m.\u001b[0m\u001b[0mget_function_check_context\u001b[0m\u001b[1;33m(\u001b[0m\u001b[0mself\u001b[0m\u001b[1;33m)\u001b[0m\u001b[1;33m:\u001b[0m\u001b[1;33m\u001b[0m\u001b[0m\n\u001b[1;32m--> 290\u001b[1;33m             \u001b[0mself\u001b[0m\u001b[1;33m.\u001b[0m\u001b[0mcheck_type_forward\u001b[0m\u001b[1;33m(\u001b[0m\u001b[0min_type\u001b[0m\u001b[1;33m)\u001b[0m\u001b[1;33m\u001b[0m\u001b[0m\n\u001b[0m\u001b[0;32m    291\u001b[0m \u001b[1;33m\u001b[0m\u001b[0m\n\u001b[0;32m    292\u001b[0m     \u001b[1;32mdef\u001b[0m \u001b[0mcheck_type_forward\u001b[0m\u001b[1;33m(\u001b[0m\u001b[0mself\u001b[0m\u001b[1;33m,\u001b[0m \u001b[0min_types\u001b[0m\u001b[1;33m)\u001b[0m\u001b[1;33m:\u001b[0m\u001b[1;33m\u001b[0m\u001b[0m\n",
      "\u001b[1;32mC:\\ProgramData\\Anaconda3\\lib\\site-packages\\chainer\\functions\\connection\\convolution_2d.py\u001b[0m in \u001b[0;36mcheck_type_forward\u001b[1;34m(self, in_types)\u001b[0m\n\u001b[0;32m     57\u001b[0m             \u001b[0mx_type\u001b[0m\u001b[1;33m.\u001b[0m\u001b[0mndim\u001b[0m \u001b[1;33m==\u001b[0m \u001b[1;36m4\u001b[0m\u001b[1;33m,\u001b[0m\u001b[1;33m\u001b[0m\u001b[0m\n\u001b[0;32m     58\u001b[0m             \u001b[0mw_type\u001b[0m\u001b[1;33m.\u001b[0m\u001b[0mndim\u001b[0m \u001b[1;33m==\u001b[0m \u001b[1;36m4\u001b[0m\u001b[1;33m,\u001b[0m\u001b[1;33m\u001b[0m\u001b[0m\n\u001b[1;32m---> 59\u001b[1;33m             \u001b[0mx_type\u001b[0m\u001b[1;33m.\u001b[0m\u001b[0mshape\u001b[0m\u001b[1;33m[\u001b[0m\u001b[1;36m1\u001b[0m\u001b[1;33m]\u001b[0m \u001b[1;33m==\u001b[0m \u001b[0mw_type\u001b[0m\u001b[1;33m.\u001b[0m\u001b[0mshape\u001b[0m\u001b[1;33m[\u001b[0m\u001b[1;36m1\u001b[0m\u001b[1;33m]\u001b[0m\u001b[1;33m,\u001b[0m\u001b[1;33m\u001b[0m\u001b[0m\n\u001b[0m\u001b[0;32m     60\u001b[0m         )\n\u001b[0;32m     61\u001b[0m \u001b[1;33m\u001b[0m\u001b[0m\n",
      "\u001b[1;32mC:\\ProgramData\\Anaconda3\\lib\\site-packages\\chainer\\utils\\type_check.py\u001b[0m in \u001b[0;36mexpect\u001b[1;34m(*bool_exprs)\u001b[0m\n\u001b[0;32m    512\u001b[0m         \u001b[1;32mfor\u001b[0m \u001b[0mexpr\u001b[0m \u001b[1;32min\u001b[0m \u001b[0mbool_exprs\u001b[0m\u001b[1;33m:\u001b[0m\u001b[1;33m\u001b[0m\u001b[0m\n\u001b[0;32m    513\u001b[0m             \u001b[1;32massert\u001b[0m \u001b[0misinstance\u001b[0m\u001b[1;33m(\u001b[0m\u001b[0mexpr\u001b[0m\u001b[1;33m,\u001b[0m \u001b[0mTestable\u001b[0m\u001b[1;33m)\u001b[0m\u001b[1;33m\u001b[0m\u001b[0m\n\u001b[1;32m--> 514\u001b[1;33m             \u001b[0mexpr\u001b[0m\u001b[1;33m.\u001b[0m\u001b[0mexpect\u001b[0m\u001b[1;33m(\u001b[0m\u001b[1;33m)\u001b[0m\u001b[1;33m\u001b[0m\u001b[0m\n\u001b[0m\u001b[0;32m    515\u001b[0m \u001b[1;33m\u001b[0m\u001b[0m\n\u001b[0;32m    516\u001b[0m \u001b[1;33m\u001b[0m\u001b[0m\n",
      "\u001b[1;32mC:\\ProgramData\\Anaconda3\\lib\\site-packages\\chainer\\utils\\type_check.py\u001b[0m in \u001b[0;36mexpect\u001b[1;34m(self)\u001b[0m\n\u001b[0;32m    470\u001b[0m             raise InvalidType(\n\u001b[0;32m    471\u001b[0m                 \u001b[1;34m'{0} {1} {2}'\u001b[0m\u001b[1;33m.\u001b[0m\u001b[0mformat\u001b[0m\u001b[1;33m(\u001b[0m\u001b[0mself\u001b[0m\u001b[1;33m.\u001b[0m\u001b[0mlhs\u001b[0m\u001b[1;33m,\u001b[0m \u001b[0mself\u001b[0m\u001b[1;33m.\u001b[0m\u001b[0mexp\u001b[0m\u001b[1;33m,\u001b[0m \u001b[0mself\u001b[0m\u001b[1;33m.\u001b[0m\u001b[0mrhs\u001b[0m\u001b[1;33m)\u001b[0m\u001b[1;33m,\u001b[0m\u001b[1;33m\u001b[0m\u001b[0m\n\u001b[1;32m--> 472\u001b[1;33m                 '{0} {1} {2}'.format(left, self.inv, right))\n\u001b[0m\u001b[0;32m    473\u001b[0m \u001b[1;33m\u001b[0m\u001b[0m\n\u001b[0;32m    474\u001b[0m \u001b[1;33m\u001b[0m\u001b[0m\n",
      "\u001b[1;31mInvalidType\u001b[0m: \nInvalid operation is performed in: Convolution2DFunction (Forward)\n\nExpect: in_types[0].ndim == 4\nActual: 2 != 4"
     ]
    }
   ],
   "source": [
    "class LeNet5(chainer.Chain):\n",
    "    def __init__(self, n_units, n_out):\n",
    "        super(LeNet5, self).__init__()\n",
    "        \n",
    "        with self.init_scope():\n",
    "            self.conv1 = L.Convolution2D(\n",
    "                in_channels=1, out_channels=6, ksize=5, stride=1)\n",
    "            self.conv2 = L.Convolution2D(\n",
    "                in_channels=6, out_channels=16, ksize=5, stride=1)\n",
    "            self.conv3 = L.Convolution2D(\n",
    "                in_channels=16, out_channels=120, ksize=4, stride=1)\n",
    "            self.fc4 = L.Linear(None, 84)\n",
    "            self.fc5 = L.Linear(84, 10)\n",
    "\n",
    "    def __call__(self, x):\n",
    "        h = F.sigmoid(self.conv1(x))\n",
    "        h = F.max_pooling_2d(h, 2, 2)\n",
    "        h = F.sigmoid(self.conv2(h))\n",
    "        h = F.max_pooling_2d(h, 2, 2)\n",
    "        h = F.sigmoid(self.conv3(h))\n",
    "        h = F.sigmoid(self.fc4(h))\n",
    "        if chainer.config.train:\n",
    "            return self.fc5(h)\n",
    "        return F.softmax(self.fc5(h))\n",
    "    \n",
    "run(LeNet5(200,10))"
   ]
  },
  {
   "cell_type": "markdown",
   "metadata": {},
   "source": [
    "Next you should try to implement logging test loss and see if the model is overfitting."
   ]
  },
  {
   "cell_type": "code",
   "execution_count": 37,
   "metadata": {},
   "outputs": [
    {
     "name": "stdout",
     "output_type": "stream",
     "text": [
      "TRAIN: loss: 2.3165 \t accuracy: 0.0\n",
      "TEST:  loss: 2.2906 \t accuracy: 0.1975\n",
      "=============================================================================\n",
      "\n",
      "TRAIN: loss: 0.3557 \t accuracy: 0.89\n",
      "TEST:  loss: 0.4272 \t accuracy: 0.8725\n",
      "=============================================================================\n",
      "\n",
      "TRAIN: loss: 0.2476 \t accuracy: 0.9225\n",
      "TEST:  loss: 0.3496 \t accuracy: 0.895\n",
      "=============================================================================\n",
      "\n",
      "TRAIN: loss: 0.1745 \t accuracy: 0.9475\n",
      "TEST:  loss: 0.293 \t accuracy: 0.9075\n",
      "=============================================================================\n",
      "\n",
      "TRAIN: loss: 0.1294 \t accuracy: 0.96\n",
      "TEST:  loss: 0.3043 \t accuracy: 0.8875\n",
      "=============================================================================\n",
      "\n",
      "TRAIN: loss: 0.1285 \t accuracy: 0.9725\n",
      "TEST:  loss: 0.2552 \t accuracy: 0.915\n",
      "=============================================================================\n",
      "\n",
      "TRAIN: loss: 0.1527 \t accuracy: 0.9375\n",
      "TEST:  loss: 0.2742 \t accuracy: 0.9175\n",
      "=============================================================================\n",
      "\n",
      "TRAIN: loss: 0.1074 \t accuracy: 0.96\n",
      "TEST:  loss: 0.2417 \t accuracy: 0.92\n",
      "=============================================================================\n",
      "\n",
      "TRAIN: loss: 0.129 \t accuracy: 0.9625\n",
      "TEST:  loss: 0.2555 \t accuracy: 0.9225\n",
      "=============================================================================\n",
      "\n",
      "TRAIN: loss: 0.1063 \t accuracy: 0.9725\n",
      "TEST:  loss: 0.2102 \t accuracy: 0.9275\n",
      "=============================================================================\n",
      "\n",
      "TRAIN: loss: 0.0952 \t accuracy: 0.9675\n",
      "TEST:  loss: 0.2295 \t accuracy: 0.92\n",
      "=============================================================================\n",
      "\n",
      "TRAIN: loss: 0.0936 \t accuracy: 0.975\n",
      "TEST:  loss: 0.1888 \t accuracy: 0.9375\n",
      "=============================================================================\n",
      "\n",
      "TRAIN: loss: 0.1177 \t accuracy: 0.9625\n",
      "TEST:  loss: 0.1891 \t accuracy: 0.93\n",
      "=============================================================================\n",
      "\n",
      "TRAIN: loss: 0.1594 \t accuracy: 0.945\n",
      "TEST:  loss: 0.1936 \t accuracy: 0.94\n",
      "=============================================================================\n",
      "\n",
      "TRAIN: loss: 0.0855 \t accuracy: 0.975\n",
      "TEST:  loss: 0.1902 \t accuracy: 0.945\n",
      "=============================================================================\n",
      "\n",
      "TRAIN: loss: 0.0536 \t accuracy: 0.9825\n",
      "TEST:  loss: 0.1697 \t accuracy: 0.95\n",
      "=============================================================================\n",
      "\n",
      "TRAIN: loss: 0.0706 \t accuracy: 0.9675\n",
      "TEST:  loss: 0.1745 \t accuracy: 0.9575\n",
      "=============================================================================\n",
      "\n",
      "TRAIN: loss: 0.0921 \t accuracy: 0.97\n",
      "TEST:  loss: 0.2482 \t accuracy: 0.9325\n",
      "=============================================================================\n",
      "\n",
      "TRAIN: loss: 0.1507 \t accuracy: 0.9525\n",
      "TEST:  loss: 0.1609 \t accuracy: 0.9475\n",
      "=============================================================================\n",
      "\n",
      "TRAIN: loss: 0.119 \t accuracy: 0.975\n",
      "TEST:  loss: 0.2175 \t accuracy: 0.93\n",
      "=============================================================================\n",
      "\n",
      "TRAIN: loss: 0.1189 \t accuracy: 0.97\n",
      "TEST:  loss: 0.1531 \t accuracy: 0.96\n",
      "=============================================================================\n",
      "\n",
      "TRAIN: loss: 0.0852 \t accuracy: 0.97\n",
      "TEST:  loss: 0.1662 \t accuracy: 0.945\n",
      "=============================================================================\n",
      "\n",
      "TRAIN: loss: 0.1077 \t accuracy: 0.965\n",
      "TEST:  loss: 0.2585 \t accuracy: 0.9225\n",
      "=============================================================================\n",
      "\n",
      "TRAIN: loss: 0.0823 \t accuracy: 0.9725\n",
      "TEST:  loss: 0.1332 \t accuracy: 0.9625\n",
      "=============================================================================\n",
      "\n",
      "TRAIN: loss: 0.0876 \t accuracy: 0.965\n",
      "TEST:  loss: 0.1421 \t accuracy: 0.9575\n",
      "=============================================================================\n",
      "\n",
      "TRAIN: loss: 0.0532 \t accuracy: 0.985\n",
      "TEST:  loss: 0.1425 \t accuracy: 0.9575\n",
      "=============================================================================\n",
      "\n"
     ]
    }
   ],
   "source": [
    "def better_run(model, batchsize=16, num_epochs=2):\n",
    "\n",
    "    optimizer = chainer.optimizers.Adam() # we will use chainer's Adam implementation instead of writing our own gradient based optimization\n",
    "    optimizer.setup(model)\n",
    "    \n",
    "    stats = defaultdict(lambda: deque(maxlen=25))\n",
    "    stats_test = defaultdict(lambda: deque(maxlen=25))\n",
    "    for epoch in range(num_epochs):\n",
    "        train_iter = chainer.iterators.SerialIterator(train, batchsize, repeat=False, shuffle=True)\n",
    "        for itr, batch in enumerate(train_iter):\n",
    "            xs = np.concatenate([datum[0][None, :] for datum in batch])\n",
    "            ys = np.array([datum[1] for datum in batch])\n",
    "\n",
    "            logits = model(xs)\n",
    "\n",
    "            loss = F.softmax_cross_entropy(logits, ys)\n",
    "            model.cleargrads()\n",
    "            loss.backward()\n",
    "            optimizer.update()\n",
    "            \n",
    "            # calculate stats\n",
    "            stats[\"loss\"].append(float(loss.data))\n",
    "            stats[\"accuracy\"].append(float((logits.data.argmax(1) == ys).sum() / batchsize))\n",
    "            if itr % 300 == 0:\n",
    "                test_iter = chainer.iterators.SerialIterator(test, batchsize, repeat=False, shuffle=False)\n",
    "                # *** YOUR CODE implement logging of stats on test set ***\n",
    "            \n",
    "                for iterator, batch in enumerate(test_iter):\n",
    "                    xs_test = np.concatenate([datum[0][None, :] for datum in batch])\n",
    "                    ys_test = np.array([datum[1] for datum in batch])\n",
    "    \n",
    "                    logits_test = model(xs_test)        \n",
    "                    loss_test = F.softmax_cross_entropy(logits_test, ys_test)\n",
    "    \n",
    "                    stats_test[\"loss\"].append(float(loss_test.data))\n",
    "                    stats_test[\"accuracy\"].append(float((logits_test.data.argmax(1) == ys_test).sum() / batchsize))\n",
    "            \n",
    "                print(\"TRAIN: \" + \" \\t \".join(\"%s: %s\" % (k, round(np.mean(vs),4)) for k, vs in stats.items()))\n",
    "                print(\"TEST:  \" + \" \\t \".join(\"%s: %s\" % (k, round(np.mean(vs),4)) for k, vs in stats_test.items()))\n",
    "                print(\"=============================================================================\")\n",
    "                print(\"\")\n",
    "\n",
    "better_run(MLP(200, 10))"
   ]
  },
  {
   "cell_type": "markdown",
   "metadata": {},
   "source": [
    "Try different variants!\n",
    "\n",
    "- Does using a ConvNet improve performance (reduce overfitting?)\n",
    "- Try changing the learning rate and observe the effect\n",
    "- Does the model train if you give it correlated gradients? (consecutively sample many batches of \"1\", then many batches of \"2\", ... etc"
   ]
  }
 ],
 "metadata": {
  "kernelspec": {
   "display_name": "Python 3",
   "language": "python",
   "name": "python3"
  },
  "language_info": {
   "codemirror_mode": {
    "name": "ipython",
    "version": 3
   },
   "file_extension": ".py",
   "mimetype": "text/x-python",
   "name": "python",
   "nbconvert_exporter": "python",
   "pygments_lexer": "ipython3",
   "version": "3.6.2"
  }
 },
 "nbformat": 4,
 "nbformat_minor": 1
}
